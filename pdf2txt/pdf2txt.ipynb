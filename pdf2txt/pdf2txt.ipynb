{
 "cells": [
  {
   "cell_type": "markdown",
   "metadata": {},
   "source": [
    "# Package import"
   ]
  },
  {
   "cell_type": "code",
   "execution_count": 35,
   "metadata": {},
   "outputs": [],
   "source": [
    "import os\n",
    "import PyPDF2"
   ]
  },
  {
   "cell_type": "markdown",
   "metadata": {},
   "source": [
    "# Variables"
   ]
  },
  {
   "cell_type": "code",
   "execution_count": 40,
   "metadata": {},
   "outputs": [],
   "source": [
    "pdf_file_name = '220509 OOP OOAD UML(기본 이론).pdf'"
   ]
  },
  {
   "cell_type": "markdown",
   "metadata": {},
   "source": [
    "# 함수 정의"
   ]
  },
  {
   "cell_type": "code",
   "execution_count": 44,
   "metadata": {},
   "outputs": [],
   "source": [
    "def func_pdf2text(pdf):\n",
    "    pdf_file_name = pdf\n",
    "    text_file_name = os.path.splitext(pdf_file_name)[0]+\".txt\"\n",
    "    \n",
    "    pdf_file = open(pdf_file_name , 'rb')\n",
    "    reader = PyPDF2.PdfReader(pdf_file)\n",
    "    \n",
    "    f = open(text_file_name, \"w\", encoding='utf-8')\n",
    "    for i in range(len(reader.pages)):\n",
    "        content = reader.pages[i].extract_text()\n",
    "        content = content + '\\n'\n",
    "        f.write(content)\n",
    "    f.close()\n",
    "    pdf_file.close()"
   ]
  },
  {
   "cell_type": "markdown",
   "metadata": {},
   "source": [
    "# 함수실행"
   ]
  },
  {
   "cell_type": "code",
   "execution_count": 45,
   "metadata": {},
   "outputs": [],
   "source": [
    "func_pdf2text(pdf_file_name)"
   ]
  }
 ],
 "metadata": {
  "kernelspec": {
   "display_name": "Python 3",
   "language": "python",
   "name": "python3"
  },
  "language_info": {
   "codemirror_mode": {
    "name": "ipython",
    "version": 3
   },
   "file_extension": ".py",
   "mimetype": "text/x-python",
   "name": "python",
   "nbconvert_exporter": "python",
   "pygments_lexer": "ipython3",
   "version": "3.7.4"
  }
 },
 "nbformat": 4,
 "nbformat_minor": 2
}
